{
 "cells": [
  {
   "cell_type": "code",
   "execution_count": 36,
   "metadata": {},
   "outputs": [],
   "source": [
    "import os\n",
    "import numpy as np\n",
    "import pandas as pd\n",
    "import matplotlib as pyplot\n",
    "#from mlp_toolkits.mplot3d import Axes3D\n"
   ]
  },
  {
   "cell_type": "code",
   "execution_count": 37,
   "metadata": {},
   "outputs": [],
   "source": [
    "#from google.colab import drive\n",
    "#drive.mount('/content/drive')"
   ]
  },
  {
   "cell_type": "code",
   "execution_count": 38,
   "metadata": {},
   "outputs": [
    {
     "name": "stdout",
     "output_type": "stream",
     "text": [
      "110000\n"
     ]
    }
   ],
   "source": [
    "data = pd.read_csv('./mantenimiento.csv')\n",
    "X = data.iloc[:,2:3].values\n",
    "y = data.iloc[:,3:].values\n",
    "print(y.size)"
   ]
  },
  {
   "cell_type": "markdown",
   "metadata": {},
   "source": [
    "Se crearan 3 nuevas columnas para anadir al dataset:\n",
    "* Antiguedad (N,S,V)\n",
    "* Estado Bateria (Muy buena, regular, mala)\n",
    "* Recibio otro mantenimiento (1,0)"
   ]
  },
  {
   "cell_type": "code",
   "execution_count": 39,
   "metadata": {},
   "outputs": [
    {
     "name": "stdout",
     "output_type": "stream",
     "text": [
      "10000\n",
      "10000\n",
      "10000\n"
     ]
    }
   ],
   "source": [
    "dataAntiguedad = ['N','S','V']\n",
    "dataStatusBatery = [\"Muy buena\", \"Regular\",\"mala\"]\n",
    "dataMantenimientoPrevio = [1,0]\n",
    "\n",
    "columnaAntiguedad = np.random.choice(dataAntiguedad, 10000)\n",
    "columnaBateria = np.random.choice(dataStatusBatery, 10000)\n",
    "columnaMantenimientoPrevio = np.random.choice(dataMantenimientoPrevio, 10000)\n",
    "\n",
    "print(columnaAntiguedad.size)\n",
    "print(columnaBateria.size)\n",
    "print(columnaMantenimientoPrevio.size)\n"
   ]
  },
  {
   "cell_type": "code",
   "execution_count": 35,
   "metadata": {},
   "outputs": [
    {
     "name": "stdout",
     "output_type": "stream",
     "text": [
      "(10000, 14)\n",
      "(10000, 17)\n"
     ]
    }
   ],
   "source": [
    "datasintetico = data.copy()\n",
    "datasintetico['Antiguedad'] = columnaAntiguedad\n",
    "datasintetico['Bateria Status'] = columnaBateria\n",
    "datasintetico['Mantenimiento previo'] = columnaMantenimientoPrevio\n",
    "print(data.shape)\n",
    "print(datasintetico.shape)"
   ]
  },
  {
   "cell_type": "markdown",
   "metadata": {},
   "source": [
    "Duplicando Datos"
   ]
  }
 ],
 "metadata": {
  "kernelspec": {
   "display_name": "Python 3",
   "language": "python",
   "name": "python3"
  },
  "language_info": {
   "codemirror_mode": {
    "name": "ipython",
    "version": 3
   },
   "file_extension": ".py",
   "mimetype": "text/x-python",
   "name": "python",
   "nbconvert_exporter": "python",
   "pygments_lexer": "ipython3",
   "version": "3.12.4"
  }
 },
 "nbformat": 4,
 "nbformat_minor": 2
}
